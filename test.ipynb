{
 "cells": [
  {
   "cell_type": "markdown",
   "metadata": {},
   "source": [
    "### Config"
   ]
  },
  {
   "cell_type": "code",
   "execution_count": 85,
   "metadata": {},
   "outputs": [],
   "source": [
    "import torch\n",
    "import torch.nn as nn\n",
    "import torch.nn.functional as F\n",
    "from torch.utils.data import DataLoader, Dataset\n",
    "import torch.optim as optim\n",
    "import random"
   ]
  },
  {
   "cell_type": "code",
   "execution_count": 86,
   "metadata": {},
   "outputs": [],
   "source": [
    "import yaml\n",
    "\n",
    "class Config:\n",
    "    \"\"\"\n",
    "    Loads configuration from the YAML file and provides access to constants.\n",
    "    \"\"\"\n",
    "\n",
    "    def __init__(self, config_path=\"CNN_Object_Detection/configs/config.yml\"):\n",
    "        with open(config_path, \"r\") as file:\n",
    "            self.config = yaml.safe_load(file)\n",
    "\n",
    "    def get(self, key, default=None):\n",
    "        \"\"\"\n",
    "        Retrieve a value from the YAML config file.\n",
    "\n",
    "        Args:\n",
    "            key (str): Configuration key in the format \"section.key\".\n",
    "            default: Default value if the key is not found.\n",
    "\n",
    "        Returns:\n",
    "            Value from the config file or the default value.\n",
    "        \"\"\"\n",
    "        keys = key.split(\".\")\n",
    "        value = self.config\n",
    "        for k in keys:\n",
    "            value = value.get(k, {})\n",
    "            if not isinstance(value, dict):\n",
    "                return value\n",
    "        return default\n",
    "\n",
    "config = Config()"
   ]
  },
  {
   "cell_type": "code",
   "execution_count": 87,
   "metadata": {},
   "outputs": [],
   "source": [
    "input_shape = tuple(config.get(\"model.input_shape\"))\n",
    "num_classes = config.get(\"model.num_classes\")\n",
    "batch_size = config.get(\"model.batch_size\")\n",
    "epochs = config.get(\"model.epochs\")\n",
    "lr = config.get(\"model.learning_rate\")\n",
    "\n",
    "device = torch.device(\"cuda\" if torch.cuda.is_available() else \"cpu\")\n"
   ]
  },
  {
   "cell_type": "markdown",
   "metadata": {},
   "source": [
    "### Model"
   ]
  },
  {
   "cell_type": "code",
   "execution_count": 88,
   "metadata": {},
   "outputs": [],
   "source": [
    "# CNN Model for 640x640 input images\n",
    "class CNN(nn.Module):\n",
    "    def __init__(self, input_shape, num_classes):\n",
    "        super(CNN, self).__init__()\n",
    "        # (Channels, H, W)\n",
    "        self.input_shape = input_shape\n",
    "\n",
    "        self.features = nn.Sequential(\n",
    "            nn.Conv2d(1, 16, kernel_size=3, stride=1, padding=1),\n",
    "            nn.ReLU(),\n",
    "            nn.MaxPool2d(2), # 320x320\n",
    "\n",
    "            nn.Conv2d(16, 32, kernel_size=3, stride=1, padding=1),\n",
    "            nn.ReLU(),\n",
    "            nn.MaxPool2d(2), # 160x160\n",
    "\n",
    "            nn.Conv2d(32, 64, kernel_size=3, stride=1, padding=1),\n",
    "            nn.ReLU(),\n",
    "            nn.AdaptiveAvgPool2d(1), # 1x1x64\n",
    "        )\n",
    "\n",
    "        # Fully connected heads\n",
    "        self.classifier = nn.Linear(64, num_classes)\n",
    "        self.bbox_regressor = nn.Linear(64, 4) # [x_center, y_center, width, height]\n",
    "\n",
    "    def forward(self, x):\n",
    "        assert x.shape[1:] == self.input_shape, \\\n",
    "            f\"Expected input shape (B, {self.input_shape}), but got {x.shape}\"\n",
    "        x = self.features(x)\n",
    "        x = x.view(x.size(0), -1)  # Flatten; (batch_size, 64)\n",
    "\n",
    "        class_logits = self.classifier(x)\n",
    "        bbox = torch.sigmoid(self.bbox_regressor(x))  # Normalization\n",
    "\n",
    "        return class_logits, bbox"
   ]
  },
  {
   "cell_type": "markdown",
   "metadata": {},
   "source": [
    "### Test"
   ]
  },
  {
   "cell_type": "code",
   "execution_count": null,
   "metadata": {},
   "outputs": [
    {
     "ename": "TypeError",
     "evalue": "CNN.__init__() missing 1 required positional argument: 'input_shape'",
     "output_type": "error",
     "traceback": [
      "\u001b[0;31m---------------------------------------------------------------------------\u001b[0m",
      "\u001b[0;31mTypeError\u001b[0m                                 Traceback (most recent call last)",
      "Cell \u001b[0;32mIn[89], line 1\u001b[0m\n\u001b[0;32m----> 1\u001b[0m model \u001b[38;5;241m=\u001b[39m \u001b[43mCNN\u001b[49m\u001b[43m(\u001b[49m\u001b[43mnum_classes\u001b[49m\u001b[38;5;241;43m=\u001b[39;49m\u001b[38;5;241;43m10\u001b[39;49m\u001b[43m)\u001b[49m\n\u001b[1;32m      2\u001b[0m image \u001b[38;5;241m=\u001b[39m torch\u001b[38;5;241m.\u001b[39mrandn(\u001b[38;5;241m1\u001b[39m, \u001b[38;5;241m1\u001b[39m, \u001b[38;5;241m640\u001b[39m, \u001b[38;5;241m640\u001b[39m)  \u001b[38;5;66;03m# Grayscale image [Batch, Channel, Height, Width]\u001b[39;00m\n\u001b[1;32m      3\u001b[0m \u001b[38;5;66;03m# image = torch.randn(8, 3, 256, 256) # Colour image\u001b[39;00m\n",
      "\u001b[0;31mTypeError\u001b[0m: CNN.__init__() missing 1 required positional argument: 'input_shape'"
     ]
    }
   ],
   "source": [
    "model = CNN(input_shape=input_shape, num_classes=10)\n",
    "image = torch.randn(1, 1, 640, 640)  # Grayscale image [Batch, Channel, Height, Width]\n",
    "# image = torch.randn(8, 3, 256, 256) # Colour image\n",
    "class_logits, bbox = model(image)"
   ]
  },
  {
   "cell_type": "code",
   "execution_count": null,
   "metadata": {},
   "outputs": [
    {
     "data": {
      "text/plain": [
       "(tensor([[ 0.0935, -0.0707,  0.1901, -0.0494, -0.0031, -0.0744, -0.1042, -0.1014,\n",
       "          -0.1330, -0.1371]], grad_fn=<AddmmBackward0>),\n",
       " tensor([[0.5608, 0.5134, 0.5479, 0.4619]], grad_fn=<SigmoidBackward0>))"
      ]
     },
     "execution_count": 80,
     "metadata": {},
     "output_type": "execute_result"
    }
   ],
   "source": [
    "class_logits, bbox"
   ]
  },
  {
   "cell_type": "markdown",
   "metadata": {},
   "source": [
    "### Dataset"
   ]
  },
  {
   "cell_type": "code",
   "execution_count": null,
   "metadata": {},
   "outputs": [],
   "source": [
    "class ImageDataset(Dataset):\n",
    "    def __init__(self, num_samples, input_shape, num_classes):\n",
    "        self.num_samples = num_samples\n",
    "        self.input_shape = input_shape\n",
    "        self.num_classes = num_classes\n",
    "\n",
    "    def __len__(self):\n",
    "        return self.num_samples\n",
    "\n",
    "    def __getitem__(self, idx):\n",
    "        image = torch.rand(self.input_shape)\n",
    "        label = torch.randint(0, self.num_classes, (1,)).item()\n",
    "        bbox = torch.rand(4)  # [x_center, y_center, width, height]\n",
    "        return image, label, bbox"
   ]
  },
  {
   "cell_type": "markdown",
   "metadata": {},
   "source": [
    "### Train"
   ]
  },
  {
   "cell_type": "code",
   "execution_count": null,
   "metadata": {},
   "outputs": [],
   "source": [
    "def train(model, dataloader, optimizer, criterion_cls, criterion_bbox):\n",
    "    model.train()\n",
    "    total_loss = 0\n",
    "    for images, labels, bboxes in dataloader:\n",
    "        images, labels, bboxes = images.to(device), labels.to(device), bboxes.to(device)\n",
    "\n",
    "        optimizer.zero_grad()\n",
    "        outputs, pred_bbox = model(images)\n",
    "\n",
    "        loss_cls = criterion_cls(outputs, labels)\n",
    "        loss_bbox = criterion_bbox(pred_bbox, bboxes)\n",
    "        loss = loss_cls + loss_bbox\n",
    "        loss.backward()\n",
    "        optimizer.step()\n",
    "        total_loss += loss.item()\n",
    "    return total_loss / len(dataloader)"
   ]
  },
  {
   "cell_type": "code",
   "execution_count": null,
   "metadata": {},
   "outputs": [],
   "source": [
    "def evaluate(model, dataloader, criterion_cls, criterion_bbox):\n",
    "    model.eval()\n",
    "    total_loss = 0\n",
    "    correct = 0\n",
    "    total = 0\n",
    "    with torch.no_grad():\n",
    "        for images, labels, bboxes in dataloader:\n",
    "            images, labels, bboxes = images.to(device), labels.to(device), bboxes.to(device)\n",
    "            outputs, pred_bbox = model(images)\n",
    "\n",
    "            loss_cls = criterion_cls(outputs, labels)\n",
    "            loss_bbox = criterion_bbox(pred_bbox, bboxes)\n",
    "            loss = loss_cls + loss_bbox\n",
    "            total_loss += loss.item()\n",
    "\n",
    "            _, predicted = torch.max(outputs, 1)\n",
    "            correct += (predicted == labels).sum().item()\n",
    "            total += labels.size(0)\n",
    "    acc = 100. * correct / total\n",
    "    return total_loss / len(dataloader), acc"
   ]
  },
  {
   "cell_type": "code",
   "execution_count": null,
   "metadata": {},
   "outputs": [
    {
     "ename": "TypeError",
     "evalue": "CNN.__init__() got an unexpected keyword argument 'input_shape'",
     "output_type": "error",
     "traceback": [
      "\u001b[0;31m---------------------------------------------------------------------------\u001b[0m",
      "\u001b[0;31mTypeError\u001b[0m                                 Traceback (most recent call last)",
      "Cell \u001b[0;32mIn[84], line 1\u001b[0m\n\u001b[0;32m----> 1\u001b[0m model \u001b[38;5;241m=\u001b[39m \u001b[43mCNN\u001b[49m\u001b[43m(\u001b[49m\u001b[43minput_shape\u001b[49m\u001b[38;5;241;43m=\u001b[39;49m\u001b[43minput_shape\u001b[49m\u001b[43m,\u001b[49m\u001b[43m \u001b[49m\u001b[43mnum_classes\u001b[49m\u001b[38;5;241;43m=\u001b[39;49m\u001b[43mnum_classes\u001b[49m\u001b[43m)\u001b[49m\u001b[38;5;241m.\u001b[39mto(device)\n\u001b[1;32m      3\u001b[0m train_data \u001b[38;5;241m=\u001b[39m ImageDataset(\u001b[38;5;241m100\u001b[39m, input_shape, num_classes)\n\u001b[1;32m      4\u001b[0m test_data \u001b[38;5;241m=\u001b[39m ImageDataset(\u001b[38;5;241m20\u001b[39m, input_shape, num_classes)\n",
      "\u001b[0;31mTypeError\u001b[0m: CNN.__init__() got an unexpected keyword argument 'input_shape'"
     ]
    }
   ],
   "source": [
    "model = CNN(input_shape=input_shape, num_classes=num_classes).to(device)\n",
    "\n",
    "train_data = ImageDataset(100, input_shape, num_classes)\n",
    "test_data = ImageDataset(20, input_shape, num_classes)\n",
    "\n",
    "train_loader = DataLoader(train_data, batch_size=batch_size, shuffle=True)\n",
    "test_loader = DataLoader(test_data, batch_size=batch_size)\n",
    "\n",
    "optimizer = optim.Adam(model.parameters(), lr=lr)\n",
    "criterion_cls = nn.CrossEntropyLoss()\n",
    "criterion_bbox = nn.SmoothL1Loss()\n",
    "\n",
    "# Train loop\n",
    "for epoch in range(epochs):\n",
    "    train_loss = train(model, train_loader, optimizer, criterion_cls, criterion_bbox)\n",
    "    val_loss, acc = evaluate(model, test_loader, criterion_cls, criterion_bbox)\n",
    "    print(f\"Epoch {epoch+1}/{epochs} | Train Loss: {train_loss:.4f} | Val Loss: {val_loss:.4f} | Acc: {acc:.2f}%\")"
   ]
  },
  {
   "cell_type": "markdown",
   "metadata": {},
   "source": [
    "### Infer"
   ]
  },
  {
   "cell_type": "code",
   "execution_count": null,
   "metadata": {},
   "outputs": [],
   "source": [
    "def infer(model, image):\n",
    "    model.eval()\n",
    "    with torch.no_grad():\n",
    "        logits, bbox = model(image.unsqueeze(0).to(device))  # Add batch dim\n",
    "        probs = torch.softmax(logits, dim=1)\n",
    "        pred_class = torch.argmax(probs)\n",
    "        return pred_class.item(), probs[0].cpu().numpy(), bbox[0].cpu().numpy()"
   ]
  },
  {
   "cell_type": "code",
   "execution_count": null,
   "metadata": {},
   "outputs": [],
   "source": [
    "# Inference test\n",
    "sample_image, _, _ = test_data[random.randint(0, len(test_data)-1)]\n",
    "pred_class, probs, bbox = infer(model, sample_image)\n",
    "print(\"\\n[Inference Result]\")\n",
    "print(\"Predicted class:\", pred_class)\n",
    "print(\"Class probabilities:\", probs)\n",
    "print(\"Bounding box:\", bbox)"
   ]
  }
 ],
 "metadata": {
  "kernelspec": {
   "display_name": "venv",
   "language": "python",
   "name": "python3"
  },
  "language_info": {
   "codemirror_mode": {
    "name": "ipython",
    "version": 3
   },
   "file_extension": ".py",
   "mimetype": "text/x-python",
   "name": "python",
   "nbconvert_exporter": "python",
   "pygments_lexer": "ipython3",
   "version": "3.10.12"
  }
 },
 "nbformat": 4,
 "nbformat_minor": 2
}
