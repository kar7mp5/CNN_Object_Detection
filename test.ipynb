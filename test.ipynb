{
 "cells": [
  {
   "cell_type": "markdown",
   "metadata": {},
   "source": [
    "### Config"
   ]
  },
  {
   "cell_type": "code",
   "execution_count": 165,
   "metadata": {},
   "outputs": [],
   "source": [
    "import torch\n",
    "import torch.nn as nn\n",
    "import torch.nn.functional as F\n",
    "from torch.utils.data import DataLoader, Dataset\n",
    "import torch.optim as optim\n",
    "import random"
   ]
  },
  {
   "cell_type": "code",
   "execution_count": 166,
   "metadata": {},
   "outputs": [],
   "source": [
    "import yaml\n",
    "\n",
    "class Config:\n",
    "    \"\"\"\n",
    "    Loads configuration from the YAML file and provides access to constants.\n",
    "    \"\"\"\n",
    "\n",
    "    def __init__(self, config_path=\"CNN_Object_Detection/configs/config.yml\"):\n",
    "        with open(config_path, \"r\") as file:\n",
    "            self.config = yaml.safe_load(file)\n",
    "\n",
    "    def get(self, key, default=None):\n",
    "        \"\"\"\n",
    "        Retrieve a value from the YAML config file.\n",
    "\n",
    "        Args:\n",
    "            key (str): Configuration key in the format \"section.key\".\n",
    "            default: Default value if the key is not found.\n",
    "\n",
    "        Returns:\n",
    "            Value from the config file or the default value.\n",
    "        \"\"\"\n",
    "        keys = key.split(\".\")\n",
    "        value = self.config\n",
    "        for k in keys:\n",
    "            value = value.get(k, {})\n",
    "            if not isinstance(value, dict):\n",
    "                return value\n",
    "        return default\n",
    "\n",
    "config = Config()"
   ]
  },
  {
   "cell_type": "code",
   "execution_count": 167,
   "metadata": {},
   "outputs": [],
   "source": [
    "input_shape = tuple(config.get(\"model.input_shape\"))\n",
    "num_classes = config.get(\"model.num_classes\")\n",
    "batch_size = config.get(\"model.batch_size\")\n",
    "epochs = config.get(\"model.epochs\")\n",
    "lr = config.get(\"model.learning_rate\")\n",
    "\n",
    "device = torch.device(\"cuda\" if torch.cuda.is_available() else \"cpu\")\n"
   ]
  },
  {
   "cell_type": "markdown",
   "metadata": {},
   "source": [
    "### Model"
   ]
  },
  {
   "cell_type": "code",
   "execution_count": 168,
   "metadata": {},
   "outputs": [],
   "source": [
    "# CNN Model for 640x640 input images\n",
    "class CNN(nn.Module):\n",
    "    def __init__(self, input_shape, num_classes):\n",
    "        super(CNN, self).__init__()\n",
    "        # (Channels, H, W)\n",
    "        self.input_shape = input_shape\n",
    "\n",
    "        self.features = nn.Sequential(\n",
    "            nn.Conv2d(1, 16, kernel_size=3, stride=1, padding=1),\n",
    "            nn.ReLU(),\n",
    "            nn.MaxPool2d(2), # 320x320\n",
    "\n",
    "            nn.Conv2d(16, 32, kernel_size=3, stride=1, padding=1),\n",
    "            nn.ReLU(),\n",
    "            nn.MaxPool2d(2), # 160x160\n",
    "\n",
    "            nn.Conv2d(32, 64, kernel_size=3, stride=1, padding=1),\n",
    "            nn.ReLU(),\n",
    "            nn.AdaptiveAvgPool2d(1), # 1x1x64\n",
    "        )\n",
    "\n",
    "        # Fully connected heads\n",
    "        self.classifier = nn.Linear(64, num_classes)\n",
    "        self.bbox_regressor = nn.Linear(64, 4) # [x_center, y_center, width, height]\n",
    "\n",
    "    def forward(self, x):\n",
    "        assert x.shape[1:] == self.input_shape, \\\n",
    "            f\"Expected input shape (B, {self.input_shape}), but got {x.shape}\"\n",
    "        \n",
    "        x = self.features(x)\n",
    "        x = x.view(x.size(0), -1)  # Flatten; (batch_size, 64)\n",
    "\n",
    "        class_logits = self.classifier(x)\n",
    "        bbox = torch.sigmoid(self.bbox_regressor(x))  # Normalization\n",
    "\n",
    "        return class_logits, bbox"
   ]
  },
  {
   "cell_type": "markdown",
   "metadata": {},
   "source": [
    "### Test"
   ]
  },
  {
   "cell_type": "code",
   "execution_count": 169,
   "metadata": {},
   "outputs": [],
   "source": [
    "model = CNN(input_shape=input_shape, num_classes=10)\n",
    "image = torch.randn(1, 1, 640, 640)  # Grayscale image [Batch, Channel, Height, Width]\n",
    "# image = torch.randn(8, 3, 256, 256) # Colour image\n",
    "class_logits, bbox = model(image)"
   ]
  },
  {
   "cell_type": "code",
   "execution_count": 170,
   "metadata": {},
   "outputs": [
    {
     "data": {
      "text/plain": [
       "(tensor([[-0.1875,  0.1363, -0.0763, -0.0438,  0.1508,  0.0284, -0.0679, -0.0269, -0.0474,  0.0433]], grad_fn=<AddmmBackward0>),\n",
       " tensor([[0.5166, 0.4641, 0.5034, 0.5351]], grad_fn=<SigmoidBackward0>))"
      ]
     },
     "execution_count": 170,
     "metadata": {},
     "output_type": "execute_result"
    }
   ],
   "source": [
    "class_logits, bbox"
   ]
  },
  {
   "cell_type": "markdown",
   "metadata": {},
   "source": [
    "### Dataset"
   ]
  },
  {
   "cell_type": "code",
   "execution_count": 171,
   "metadata": {},
   "outputs": [],
   "source": [
    "class ImageDataset(Dataset):\n",
    "    def __init__(self, num_samples, input_shape, num_classes):\n",
    "        self.num_samples = num_samples\n",
    "        self.input_shape = input_shape\n",
    "        self.num_classes = num_classes\n",
    "\n",
    "    def __len__(self):\n",
    "        return self.num_samples\n",
    "\n",
    "    def __getitem__(self, idx):\n",
    "        image = torch.rand(self.input_shape)\n",
    "        label = torch.randint(0, self.num_classes, (1,)).item()\n",
    "        bbox = torch.rand(4)  # [x_center, y_center, width, height]\n",
    "        return image, label, bbox"
   ]
  },
  {
   "cell_type": "markdown",
   "metadata": {},
   "source": [
    "### Train"
   ]
  },
  {
   "cell_type": "code",
   "execution_count": 172,
   "metadata": {},
   "outputs": [],
   "source": [
    "def train(model, dataloader, optimizer, criterion_cls, criterion_bbox):\n",
    "    model.train()\n",
    "    total_loss = 0\n",
    "    for images, labels, bboxes in dataloader:\n",
    "        images, labels, bboxes = images.to(device), labels.to(device), bboxes.to(device)\n",
    "\n",
    "        optimizer.zero_grad()\n",
    "        outputs, pred_bbox = model(images)\n",
    "\n",
    "        loss_cls = criterion_cls(outputs, labels)\n",
    "        loss_bbox = criterion_bbox(pred_bbox, bboxes)\n",
    "        loss = loss_cls + loss_bbox\n",
    "        loss.backward()\n",
    "        optimizer.step()\n",
    "        total_loss += loss.item()\n",
    "    return total_loss / len(dataloader)"
   ]
  },
  {
   "cell_type": "code",
   "execution_count": 173,
   "metadata": {},
   "outputs": [],
   "source": [
    "def evaluate(model, dataloader, criterion_cls, criterion_bbox):\n",
    "    model.eval()\n",
    "    total_loss = 0\n",
    "    correct = 0\n",
    "    total = 0\n",
    "    with torch.no_grad():\n",
    "        for images, labels, bboxes in dataloader:\n",
    "            images, labels, bboxes = images.to(device), labels.to(device), bboxes.to(device)\n",
    "            outputs, pred_bbox = model(images)\n",
    "\n",
    "            loss_cls = criterion_cls(outputs, labels)\n",
    "            loss_bbox = criterion_bbox(pred_bbox, bboxes)\n",
    "            loss = loss_cls + loss_bbox\n",
    "            total_loss += loss.item()\n",
    "\n",
    "            _, predicted = torch.max(outputs, 1)\n",
    "            correct += (predicted == labels).sum().item()\n",
    "            total += labels.size(0)\n",
    "    acc = 100. * correct / total\n",
    "    return total_loss / len(dataloader), acc"
   ]
  },
  {
   "cell_type": "code",
   "execution_count": 174,
   "metadata": {},
   "outputs": [
    {
     "name": "stdout",
     "output_type": "stream",
     "text": [
      "Epoch 1/5 | Train Loss: 2.3590 | Val Loss: 2.3586 | Acc: 5.00%\n",
      "Epoch 2/5 | Train Loss: 2.3412 | Val Loss: 2.3574 | Acc: 10.00%\n",
      "Epoch 3/5 | Train Loss: 2.3419 | Val Loss: 2.3598 | Acc: 20.00%\n",
      "Epoch 4/5 | Train Loss: 2.3473 | Val Loss: 2.3477 | Acc: 10.00%\n",
      "Epoch 5/5 | Train Loss: 2.3466 | Val Loss: 2.3417 | Acc: 15.00%\n"
     ]
    }
   ],
   "source": [
    "model = CNN(input_shape=input_shape, num_classes=num_classes).to(device)\n",
    "\n",
    "train_data = ImageDataset(100, input_shape, num_classes)\n",
    "test_data = ImageDataset(20, input_shape, num_classes)\n",
    "\n",
    "train_loader = DataLoader(train_data, batch_size=batch_size, shuffle=True)\n",
    "test_loader = DataLoader(test_data, batch_size=batch_size)\n",
    "\n",
    "optimizer = optim.Adam(model.parameters(), lr=lr)\n",
    "criterion_cls = nn.CrossEntropyLoss()\n",
    "criterion_bbox = nn.SmoothL1Loss()\n",
    "\n",
    "# Train loop\n",
    "for epoch in range(epochs):\n",
    "    train_loss = train(model, train_loader, optimizer, criterion_cls, criterion_bbox)\n",
    "    val_loss, acc = evaluate(model, test_loader, criterion_cls, criterion_bbox)\n",
    "    print(f\"Epoch {epoch+1}/{epochs} | Train Loss: {train_loss:.4f} | Val Loss: {val_loss:.4f} | Acc: {acc:.2f}%\")"
   ]
  },
  {
   "cell_type": "markdown",
   "metadata": {},
   "source": [
    "### Infer"
   ]
  },
  {
   "cell_type": "code",
   "execution_count": 175,
   "metadata": {},
   "outputs": [],
   "source": [
    "def infer(model, image):\n",
    "    model.eval()\n",
    "    with torch.no_grad():\n",
    "        logits, bbox = model(image.unsqueeze(0).to(device))  # Add batch dim\n",
    "        probs = torch.softmax(logits, dim=1)\n",
    "        pred_class = torch.argmax(probs)\n",
    "        return pred_class.item(), probs[0].cpu().numpy(), bbox[0].cpu().numpy()"
   ]
  },
  {
   "cell_type": "code",
   "execution_count": 176,
   "metadata": {},
   "outputs": [
    {
     "name": "stdout",
     "output_type": "stream",
     "text": [
      "\n",
      "[Inference Result]\n",
      "Predicted class: 6\n",
      "Class probabilities: [   0.099593     0.10057     0.10417    0.094595     0.10301    0.098473     0.11019    0.091384    0.093159     0.10486]\n",
      "Bounding box: [    0.51103     0.49356     0.50759     0.53333]\n"
     ]
    }
   ],
   "source": [
    "# Inference test\n",
    "sample_image, _, _ = test_data[random.randint(0, len(test_data)-1)]\n",
    "pred_class, probs, bbox = infer(model, sample_image)\n",
    "print(\"\\n[Inference Result]\")\n",
    "print(\"Predicted class:\", pred_class)\n",
    "print(\"Class probabilities:\", probs)\n",
    "print(\"Bounding box:\", bbox)"
   ]
  },
  {
   "cell_type": "markdown",
   "metadata": {},
   "source": [
    "### Load Roboflow Dataset"
   ]
  },
  {
   "cell_type": "code",
   "execution_count": 177,
   "metadata": {},
   "outputs": [
    {
     "name": "stdout",
     "output_type": "stream",
     "text": [
      "loading Roboflow workspace...\n",
      "loading Roboflow project...\n",
      "Train set size: 586\n",
      "Validation set size: 83\n",
      "Test set size: 50\n"
     ]
    }
   ],
   "source": [
    "# Ultralytics(YOLOv8) 설치\n",
    "# !pip install ultralytics roboflow\n",
    "\n",
    "from roboflow import Roboflow\n",
    "rf = Roboflow(api_key=\"Ew4WmTF6TrvDqghB1sEe\")\n",
    "project = rf.workspace(\"tank-project\").project(\"tank-detection-using-yolo\")\n",
    "version = project.version(8)\n",
    "dataset = version.download(\"yolov8\")\n",
    "import os\n",
    "\n",
    "base_path = dataset.location  # 다운로드된 데이터셋 경로\n",
    "\n",
    "train_count = len(os.listdir(os.path.join(base_path, \"train\", \"images\")))\n",
    "valid_count = len(os.listdir(os.path.join(base_path, \"valid\", \"images\")))\n",
    "test_count = len(os.listdir(os.path.join(base_path, \"test\", \"images\")))\n",
    "\n",
    "print(\"Train set size:\", train_count)\n",
    "print(\"Validation set size:\", valid_count)\n",
    "print(\"Test set size:\", test_count)"
   ]
  },
  {
   "cell_type": "code",
   "execution_count": 178,
   "metadata": {},
   "outputs": [],
   "source": [
    "import torch\n",
    "import torch.nn as nn\n",
    "import torch.nn.functional as F\n",
    "\n",
    "class CNN(nn.Module):\n",
    "    def __init__(self, input_shape=(1, 640, 640), num_classes=1):\n",
    "        \"\"\"\n",
    "        - input_shape: (C, H, W) — e.g. (1, 640, 640)\n",
    "        - num_classes: 분류할 클래스 수\n",
    "        \"\"\"\n",
    "        super(CNN, self).__init__()\n",
    "        self.input_shape = input_shape  # For input validation\n",
    "\n",
    "        self.features = nn.Sequential(\n",
    "            nn.Conv2d(in_channels=input_shape[0], out_channels=16, kernel_size=3, stride=1, padding=1),  # [B, 16, H, W]\n",
    "            nn.ReLU(),\n",
    "            nn.MaxPool2d(kernel_size=2),  # ↓ [B, 16, H/2, W/2]\n",
    "\n",
    "            nn.Conv2d(16, 32, kernel_size=3, stride=1, padding=1),\n",
    "            nn.ReLU(),\n",
    "            nn.MaxPool2d(2),  # ↓ [B, 32, H/4, W/4]\n",
    "\n",
    "            nn.Conv2d(32, 64, kernel_size=3, stride=1, padding=1),\n",
    "            nn.ReLU(),\n",
    "            nn.AdaptiveAvgPool2d(1),  # → [B, 64, 1, 1]\n",
    "        )\n",
    "\n",
    "        # Classification head\n",
    "        self.classifier = nn.Linear(64, num_classes)\n",
    "\n",
    "        # Bounding box head: [x_center, y_center, width, height]\n",
    "        self.bbox_regressor = nn.Linear(64, 4)\n",
    "\n",
    "    def forward(self, x):\n",
    "        # Debug shape check\n",
    "        assert x.shape[1:] == self.input_shape, \\\n",
    "            f\"Expected input shape (B, {self.input_shape}), but got {x.shape}\"\n",
    "\n",
    "        x = self.features(x)  # [B, 64, 1, 1]\n",
    "        x = x.view(x.size(0), -1)  # [B, 64]\n",
    "\n",
    "        class_logits = self.classifier(x)         # [B, num_classes]\n",
    "        bbox = torch.sigmoid(self.bbox_regressor(x))  # [B, 4] in range [0, 1]\n",
    "\n",
    "        return class_logits, bbox\n"
   ]
  },
  {
   "cell_type": "code",
   "execution_count": 179,
   "metadata": {},
   "outputs": [],
   "source": [
    "from torch.utils.data import Dataset\n",
    "from torchvision import transforms\n",
    "from PIL import Image\n",
    "import os\n",
    "import torch\n",
    "\n",
    "class YoloFolderDataset(Dataset):\n",
    "    def __init__(self, img_dir, label_dir, input_shape):\n",
    "        self.img_dir = img_dir\n",
    "        self.label_dir = label_dir\n",
    "        self.input_shape = input_shape  # e.g. (1, 640, 640)\n",
    "        self.image_files = sorted(os.listdir(img_dir))\n",
    "\n",
    "        # ⚠️ [1, H, W] 형태로 강제 변환되도록 구성\n",
    "        self.transform = transforms.Compose([\n",
    "            transforms.Resize(input_shape[1:]),   # (H, W)\n",
    "            transforms.Grayscale(num_output_channels=1),  # 흑백 채널 1개\n",
    "            transforms.ToTensor(),               # → shape: [1, H, W], float32, [0, 1] 범위\n",
    "        ])\n",
    "\n",
    "    def __len__(self):\n",
    "        return len(self.image_files)\n",
    "\n",
    "    def __getitem__(self, idx):\n",
    "        img_file = self.image_files[idx]\n",
    "        label_file = img_file.replace(\".jpg\", \".txt\").replace(\".png\", \".txt\")\n",
    "\n",
    "        img_path = os.path.join(self.img_dir, img_file)\n",
    "        label_path = os.path.join(self.label_dir, label_file)\n",
    "\n",
    "        # ✅ 이미지 로드 및 Tensor 변환\n",
    "        img = Image.open(img_path)\n",
    "        img_tensor = self.transform(img)  # → [1, H, W]\n",
    "\n",
    "        # ✅ 라벨 로드\n",
    "        with open(label_path, \"r\") as f:\n",
    "            line = f.readline().strip().split()\n",
    "            class_id = int(line[0])\n",
    "            bbox = torch.tensor([float(x) for x in line[1:]], dtype=torch.float32)\n",
    "\n",
    "        class_tensor = torch.tensor(class_id, dtype=torch.long)\n",
    "        return img_tensor, class_tensor, bbox\n"
   ]
  },
  {
   "cell_type": "code",
   "execution_count": 180,
   "metadata": {},
   "outputs": [],
   "source": [
    "base_path = \"Tank-detection-using-YOLO-8\"\n",
    "\n",
    "train_dataset = YoloFolderDataset(\n",
    "    img_dir=os.path.join(base_path, \"train/images\"),\n",
    "    label_dir=os.path.join(base_path, \"train/labels\"),\n",
    "    input_shape=(1, 640, 640)\n",
    ")\n",
    "train_loader = torch.utils.data.DataLoader(train_dataset, batch_size=8, shuffle=True)"
   ]
  },
  {
   "cell_type": "code",
   "execution_count": 181,
   "metadata": {},
   "outputs": [],
   "source": [
    "def train(model, dataloader, optimizer, criterion_cls, criterion_bbox, device):\n",
    "    model.train()\n",
    "    total_loss = 0\n",
    "    for images, labels, bboxes in dataloader:\n",
    "        images, labels, bboxes = images.to(device), labels.to(device), bboxes.to(device)\n",
    "\n",
    "        optimizer.zero_grad()\n",
    "        outputs, pred_bbox = model(images)\n",
    "\n",
    "        loss_cls = criterion_cls(outputs, labels)\n",
    "        loss_bbox = criterion_bbox(pred_bbox, bboxes)\n",
    "        loss = loss_cls + loss_bbox\n",
    "        loss.backward()\n",
    "        optimizer.step()\n",
    "        total_loss += loss.item()\n",
    "    return total_loss / len(dataloader)"
   ]
  },
  {
   "cell_type": "code",
   "execution_count": 182,
   "metadata": {},
   "outputs": [],
   "source": [
    "import time\n",
    "\n",
    "def infer_and_measure(model, loader, device, num_batches=10):\n",
    "    model.eval()\n",
    "    total_time = 0\n",
    "    total_samples = 0\n",
    "\n",
    "    with torch.no_grad():\n",
    "        for i, (img, cls, bbox) in enumerate(loader):\n",
    "            if i >= num_batches: break\n",
    "            img = img.to(device)\n",
    "            start = time.time()\n",
    "            out_cls, out_bbox = model(img)\n",
    "            end = time.time()\n",
    "            total_time += (end - start)\n",
    "            total_samples += img.size(0)\n",
    "\n",
    "            pred = torch.argmax(torch.softmax(out_cls, dim=1), dim=1)\n",
    "            print(f\"[Sample {i}] Class: {pred[0].item()}  BBox: {out_bbox[0].cpu().numpy()}\")\n",
    "\n",
    "    fps = total_samples / total_time\n",
    "    print(f\"\\n평균 FPS: {fps:.2f} Hz\")"
   ]
  },
  {
   "cell_type": "code",
   "execution_count": null,
   "metadata": {},
   "outputs": [
    {
     "ename": "AssertionError",
     "evalue": "Expected input shape (B, (1, 640, 640)), but got torch.Size([1, 640, 640])",
     "output_type": "error",
     "traceback": [
      "\u001b[0;31m---------------------------------------------------------------------------\u001b[0m",
      "\u001b[0;31mAssertionError\u001b[0m                            Traceback (most recent call last)",
      "Cell \u001b[0;32mIn[184], line 21\u001b[0m\n\u001b[1;32m     18\u001b[0m criterion_bbox \u001b[38;5;241m=\u001b[39m nn\u001b[38;5;241m.\u001b[39mSmoothL1Loss()\n\u001b[1;32m     20\u001b[0m \u001b[38;5;28;01mfor\u001b[39;00m epoch \u001b[38;5;129;01min\u001b[39;00m \u001b[38;5;28mrange\u001b[39m(config\u001b[38;5;241m.\u001b[39mget(\u001b[38;5;124m\"\u001b[39m\u001b[38;5;124mmodel.epochs\u001b[39m\u001b[38;5;124m\"\u001b[39m)):\n\u001b[0;32m---> 21\u001b[0m     loss \u001b[38;5;241m=\u001b[39m \u001b[43mtrain\u001b[49m\u001b[43m(\u001b[49m\u001b[43mmodel\u001b[49m\u001b[43m,\u001b[49m\u001b[43m \u001b[49m\u001b[43mtrain_loader\u001b[49m\u001b[43m,\u001b[49m\u001b[43m \u001b[49m\u001b[43moptimizer\u001b[49m\u001b[43m,\u001b[49m\u001b[43m \u001b[49m\u001b[43mcriterion_cls\u001b[49m\u001b[43m,\u001b[49m\u001b[43m \u001b[49m\u001b[43mcriterion_bbox\u001b[49m\u001b[43m,\u001b[49m\u001b[43m \u001b[49m\u001b[43mdevice\u001b[49m\u001b[43m)\u001b[49m\n\u001b[1;32m     22\u001b[0m     \u001b[38;5;28mprint\u001b[39m(\u001b[38;5;124mf\u001b[39m\u001b[38;5;124m\"\u001b[39m\u001b[38;5;124m[Epoch \u001b[39m\u001b[38;5;132;01m{\u001b[39;00mepoch\u001b[38;5;241m+\u001b[39m\u001b[38;5;241m1\u001b[39m\u001b[38;5;132;01m}\u001b[39;00m\u001b[38;5;124m] Train Loss: \u001b[39m\u001b[38;5;132;01m{\u001b[39;00mloss\u001b[38;5;132;01m:\u001b[39;00m\u001b[38;5;124m.4f\u001b[39m\u001b[38;5;132;01m}\u001b[39;00m\u001b[38;5;124m\"\u001b[39m)\n\u001b[1;32m     24\u001b[0m \u001b[38;5;28mprint\u001b[39m(\u001b[38;5;124m\"\u001b[39m\u001b[38;5;130;01m\\n\u001b[39;00m\u001b[38;5;124m추론 및 FPS 측정 중...\u001b[39m\u001b[38;5;124m\"\u001b[39m)\n",
      "Cell \u001b[0;32mIn[181], line 8\u001b[0m, in \u001b[0;36mtrain\u001b[0;34m(model, dataloader, optimizer, criterion_cls, criterion_bbox, device)\u001b[0m\n\u001b[1;32m      5\u001b[0m images, labels, bboxes \u001b[38;5;241m=\u001b[39m images\u001b[38;5;241m.\u001b[39mto(device), labels\u001b[38;5;241m.\u001b[39mto(device), bboxes\u001b[38;5;241m.\u001b[39mto(device)\n\u001b[1;32m      7\u001b[0m optimizer\u001b[38;5;241m.\u001b[39mzero_grad()\n\u001b[0;32m----> 8\u001b[0m outputs, pred_bbox \u001b[38;5;241m=\u001b[39m \u001b[43mmodel\u001b[49m\u001b[43m(\u001b[49m\u001b[43mimages\u001b[49m\u001b[43m)\u001b[49m\n\u001b[1;32m     10\u001b[0m loss_cls \u001b[38;5;241m=\u001b[39m criterion_cls(outputs, labels)\n\u001b[1;32m     11\u001b[0m loss_bbox \u001b[38;5;241m=\u001b[39m criterion_bbox(pred_bbox, bboxes)\n",
      "File \u001b[0;32m~/Projects/CNN_Object_Detection/venv/lib/python3.10/site-packages/torch/nn/modules/module.py:1739\u001b[0m, in \u001b[0;36mModule._wrapped_call_impl\u001b[0;34m(self, *args, **kwargs)\u001b[0m\n\u001b[1;32m   1737\u001b[0m     \u001b[38;5;28;01mreturn\u001b[39;00m \u001b[38;5;28mself\u001b[39m\u001b[38;5;241m.\u001b[39m_compiled_call_impl(\u001b[38;5;241m*\u001b[39margs, \u001b[38;5;241m*\u001b[39m\u001b[38;5;241m*\u001b[39mkwargs)  \u001b[38;5;66;03m# type: ignore[misc]\u001b[39;00m\n\u001b[1;32m   1738\u001b[0m \u001b[38;5;28;01melse\u001b[39;00m:\n\u001b[0;32m-> 1739\u001b[0m     \u001b[38;5;28;01mreturn\u001b[39;00m \u001b[38;5;28;43mself\u001b[39;49m\u001b[38;5;241;43m.\u001b[39;49m\u001b[43m_call_impl\u001b[49m\u001b[43m(\u001b[49m\u001b[38;5;241;43m*\u001b[39;49m\u001b[43margs\u001b[49m\u001b[43m,\u001b[49m\u001b[43m \u001b[49m\u001b[38;5;241;43m*\u001b[39;49m\u001b[38;5;241;43m*\u001b[39;49m\u001b[43mkwargs\u001b[49m\u001b[43m)\u001b[49m\n",
      "File \u001b[0;32m~/Projects/CNN_Object_Detection/venv/lib/python3.10/site-packages/torch/nn/modules/module.py:1750\u001b[0m, in \u001b[0;36mModule._call_impl\u001b[0;34m(self, *args, **kwargs)\u001b[0m\n\u001b[1;32m   1745\u001b[0m \u001b[38;5;66;03m# If we don't have any hooks, we want to skip the rest of the logic in\u001b[39;00m\n\u001b[1;32m   1746\u001b[0m \u001b[38;5;66;03m# this function, and just call forward.\u001b[39;00m\n\u001b[1;32m   1747\u001b[0m \u001b[38;5;28;01mif\u001b[39;00m \u001b[38;5;129;01mnot\u001b[39;00m (\u001b[38;5;28mself\u001b[39m\u001b[38;5;241m.\u001b[39m_backward_hooks \u001b[38;5;129;01mor\u001b[39;00m \u001b[38;5;28mself\u001b[39m\u001b[38;5;241m.\u001b[39m_backward_pre_hooks \u001b[38;5;129;01mor\u001b[39;00m \u001b[38;5;28mself\u001b[39m\u001b[38;5;241m.\u001b[39m_forward_hooks \u001b[38;5;129;01mor\u001b[39;00m \u001b[38;5;28mself\u001b[39m\u001b[38;5;241m.\u001b[39m_forward_pre_hooks\n\u001b[1;32m   1748\u001b[0m         \u001b[38;5;129;01mor\u001b[39;00m _global_backward_pre_hooks \u001b[38;5;129;01mor\u001b[39;00m _global_backward_hooks\n\u001b[1;32m   1749\u001b[0m         \u001b[38;5;129;01mor\u001b[39;00m _global_forward_hooks \u001b[38;5;129;01mor\u001b[39;00m _global_forward_pre_hooks):\n\u001b[0;32m-> 1750\u001b[0m     \u001b[38;5;28;01mreturn\u001b[39;00m \u001b[43mforward_call\u001b[49m\u001b[43m(\u001b[49m\u001b[38;5;241;43m*\u001b[39;49m\u001b[43margs\u001b[49m\u001b[43m,\u001b[49m\u001b[43m \u001b[49m\u001b[38;5;241;43m*\u001b[39;49m\u001b[38;5;241;43m*\u001b[39;49m\u001b[43mkwargs\u001b[49m\u001b[43m)\u001b[49m\n\u001b[1;32m   1752\u001b[0m result \u001b[38;5;241m=\u001b[39m \u001b[38;5;28;01mNone\u001b[39;00m\n\u001b[1;32m   1753\u001b[0m called_always_called_hooks \u001b[38;5;241m=\u001b[39m \u001b[38;5;28mset\u001b[39m()\n",
      "Cell \u001b[0;32mIn[178], line 36\u001b[0m, in \u001b[0;36mCNN.forward\u001b[0;34m(self, x)\u001b[0m\n\u001b[1;32m     34\u001b[0m \u001b[38;5;28;01mdef\u001b[39;00m\u001b[38;5;250m \u001b[39m\u001b[38;5;21mforward\u001b[39m(\u001b[38;5;28mself\u001b[39m, x):\n\u001b[1;32m     35\u001b[0m     \u001b[38;5;66;03m# Debug shape check\u001b[39;00m\n\u001b[0;32m---> 36\u001b[0m     \u001b[38;5;28;01massert\u001b[39;00m x\u001b[38;5;241m.\u001b[39mshape[\u001b[38;5;241m1\u001b[39m:] \u001b[38;5;241m==\u001b[39m \u001b[38;5;28mself\u001b[39m\u001b[38;5;241m.\u001b[39minput_shape, \\\n\u001b[1;32m     37\u001b[0m         \u001b[38;5;124mf\u001b[39m\u001b[38;5;124m\"\u001b[39m\u001b[38;5;124mExpected input shape (B, \u001b[39m\u001b[38;5;132;01m{\u001b[39;00m\u001b[38;5;28mself\u001b[39m\u001b[38;5;241m.\u001b[39minput_shape\u001b[38;5;132;01m}\u001b[39;00m\u001b[38;5;124m), but got \u001b[39m\u001b[38;5;132;01m{\u001b[39;00mx\u001b[38;5;241m.\u001b[39mshape\u001b[38;5;132;01m}\u001b[39;00m\u001b[38;5;124m\"\u001b[39m\n\u001b[1;32m     39\u001b[0m     x \u001b[38;5;241m=\u001b[39m \u001b[38;5;28mself\u001b[39m\u001b[38;5;241m.\u001b[39mfeatures(x)  \u001b[38;5;66;03m# [B, 64, 1, 1]\u001b[39;00m\n\u001b[1;32m     40\u001b[0m     x \u001b[38;5;241m=\u001b[39m x\u001b[38;5;241m.\u001b[39mview(x\u001b[38;5;241m.\u001b[39msize(\u001b[38;5;241m0\u001b[39m), \u001b[38;5;241m-\u001b[39m\u001b[38;5;241m1\u001b[39m)  \u001b[38;5;66;03m# [B, 64]\u001b[39;00m\n",
      "\u001b[0;31mAssertionError\u001b[0m: Expected input shape (B, (1, 640, 640)), but got torch.Size([1, 640, 640])"
     ]
    }
   ],
   "source": [
    "if __name__ == \"__main__\":\n",
    "    input_shape = tuple(config.get(\"model.input_shape\"))\n",
    "    num_classes = config.get(\"model.num_classes\")\n",
    "    device = torch.device(\"cuda\" if torch.cuda.is_available() else \"cpu\")\n",
    "\n",
    "    # 경로 설정\n",
    "    base_path = \"/home/kar/Projects/CNN_Object_Detection/Tank-detection-using-YOLO-8\"  # Roboflow 다운로드 위치\n",
    "    model = CNN(input_shape, num_classes).to(device)\n",
    "\n",
    "    train_ds = YoloFolderDataset(f\"{base_path}/train/images\", f\"{base_path}/train/labels\", input_shape)\n",
    "    test_ds = YoloFolderDataset(f\"{base_path}/test/images\", f\"{base_path}/test/labels\", input_shape)\n",
    "\n",
    "    train_loader = DataLoader(train_ds, batch_size=config.get(\"batch_size\"), shuffle=True)\n",
    "    test_loader = DataLoader(test_ds, batch_size=1, shuffle=False)\n",
    "\n",
    "    optimizer = torch.optim.Adam(model.parameters(), lr=config.get(\"model.learning_rate\"))\n",
    "    criterion_cls = nn.CrossEntropyLoss()\n",
    "    criterion_bbox = nn.SmoothL1Loss()\n",
    "\n",
    "    for epoch in range(config.get(\"model.epochs\")):\n",
    "        loss = train(model, train_loader, optimizer, criterion_cls, criterion_bbox, device)\n",
    "        print(f\"[Epoch {epoch+1}] Train Loss: {loss:.4f}\")\n",
    "\n",
    "    print(\"\\n추론 및 FPS 측정 중...\")\n",
    "    infer_and_measure(model, test_loader, device)"
   ]
  }
 ],
 "metadata": {
  "kernelspec": {
   "display_name": "venv",
   "language": "python",
   "name": "python3"
  },
  "language_info": {
   "codemirror_mode": {
    "name": "ipython",
    "version": 3
   },
   "file_extension": ".py",
   "mimetype": "text/x-python",
   "name": "python",
   "nbconvert_exporter": "python",
   "pygments_lexer": "ipython3",
   "version": "3.10.12"
  }
 },
 "nbformat": 4,
 "nbformat_minor": 2
}
